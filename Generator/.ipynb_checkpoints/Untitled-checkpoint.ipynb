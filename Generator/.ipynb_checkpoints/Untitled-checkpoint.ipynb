{
 "cells": [
  {
   "cell_type": "code",
   "execution_count": 1,
   "metadata": {},
   "outputs": [],
   "source": [
    "import numpy as np\n",
    "import tensorflow as tf\n",
    "import random\n",
    "\n"
   ]
  },
  {
   "cell_type": "code",
   "execution_count": 2,
   "metadata": {},
   "outputs": [],
   "source": [
    "from dataloader import Gen_Data_loader, Dis_Data_loader\n",
    "import pickle\n",
    "from generator import Generator\n",
    "from discriminator import Discriminator"
   ]
  },
  {
   "cell_type": "code",
   "execution_count": 3,
   "metadata": {},
   "outputs": [
    {
     "name": "stdout",
     "output_type": "stream",
     "text": [
      "2.1.0\n"
     ]
    }
   ],
   "source": [
    "print(tf.__version__)"
   ]
  },
  {
   "cell_type": "code",
   "execution_count": 4,
   "metadata": {},
   "outputs": [],
   "source": [
    "\n",
    "#########################################################################################\n",
    "#  Generator  Hyper-parameters\n",
    "######################################################################################\n",
    "EMB_DIM = 200 # embedding dimension\n",
    "HIDDEN_DIM = 200 # hidden state dimension of lstm cell\n",
    "MAX_SEQ_LENGTH = 17  # max sequence length\n",
    "BATCH_SIZE = 64\n",
    "\n",
    "\n",
    "#########################################################################################\n",
    "#  Discriminator  Hyper-parameters\n",
    "#########################################################################################\n",
    "dis_embedding_dim = 64\n",
    "dis_filter_sizes = [1, 2, 3, 4, 5, 6, 7, 8, 9, 10, 15]\n",
    "dis_num_filters = [100, 200, 200, 200, 200, 100, 100, 100, 100, 100, 160]\n",
    "dis_dropout_keep_prob = 0.75\n",
    "dis_l2_reg_lambda = 0.2\n",
    "dis_batch_size = 64\n"
   ]
  },
  {
   "cell_type": "code",
   "execution_count": 5,
   "metadata": {},
   "outputs": [],
   "source": [
    "#########################################################################################\n",
    "#  Basic Training Parameters\n",
    "#########################################################################################\n",
    "TOTAL_BATCH = 2000\n",
    "dataset_path = \"../../data/movie/\"\n",
    "emb_dict_file = dataset_path + \"imdb_word.vocab\"\n",
    "\n",
    "# imdb corpus\n",
    "imdb_file_txt = dataset_path + \"imdb/imdb_sentences.txt\"\n",
    "imdb_file_id = dataset_path + \"imdb/imdb_sentences.id\"\n",
    "\n",
    "# sstb corpus\n",
    "sst_pos_file_txt = dataset_path + 'sstb/sst_pos_sentences.txt'\n",
    "sst_pos_file_id = dataset_path + 'sstb/sst_pos_sentences.id'\n",
    "sst_neg_file_txt = dataset_path + 'sstb/sst_neg_sentences.txt'\n",
    "sst_neg_file_id = dataset_path + 'sstb/sst_neg_sentences.id'\n",
    "\n",
    "\n",
    "eval_file = 'save/eval_file.txt'\n",
    "eval_text_file = 'save/eval_text_file.txt'\n",
    "negative_file = 'save/generator_sample.txt'\n",
    "infer_file = 'save/infer/'\n"
   ]
  },
  {
   "cell_type": "code",
   "execution_count": 6,
   "metadata": {},
   "outputs": [],
   "source": [
    "def generate_samples(sess, trainable_model, generated_num, output_file, vocab_list, if_log=False, epoch=0):\n",
    "    # Generate Samples\n",
    "    generated_samples = []\n",
    "    for _ in range(int(generated_num)):\n",
    "        generated_samples.extend(trainable_model.generate(sess))\n",
    "\n",
    "    if if_log:\n",
    "        mode = 'a'\n",
    "        if epoch == 0:\n",
    "            mode = 'w'\n",
    "        with open(eval_text_file, mode) as fout:\n",
    "            # id_str = 'epoch:%d ' % epoch\n",
    "            for poem in generated_samples:\n",
    "                poem = list(poem)\n",
    "                if 2 in poem:\n",
    "                    poem = poem[:poem.index(2)]\n",
    "                buffer = ' '.join([vocab_list[x] for x in poem]) + '\\n'\n",
    "                fout.write(buffer)\n",
    "\n",
    "    with open(output_file, 'w') as fout:\n",
    "        for poem in generated_samples:\n",
    "            poem = list(poem)\n",
    "            if 2 in poem:\n",
    "                poem = poem[:poem.index(2)]\n",
    "            buffer = ' '.join([str(x) for x in poem]) + '\\n'\n",
    "            fout.write(buffer)\n"
   ]
  },
  {
   "cell_type": "code",
   "execution_count": 7,
   "metadata": {},
   "outputs": [],
   "source": [
    "def generate_infer(sess, trainable_model, epoch, vocab_list):\n",
    "    generated_samples = []\n",
    "    for _ in range(int(100)):\n",
    "        # generated_samples.extend(trainable_model.infer(sess))\n",
    "        generated_samples.extend(trainable_model.generate(sess))\n",
    "    file = infer_file+str(epoch)+'.txt'\n",
    "    with open(file, 'w') as fout:\n",
    "        for poem in generated_samples:\n",
    "            poem = list(poem)\n",
    "            if 2 in poem:\n",
    "                poem = poem[:poem.index(2)]\n",
    "            buffer = ' '.join([vocab_list[x] for x in poem]) + '\\n'\n",
    "            fout.write(buffer)\n",
    "    print(\"%s saves\" % file)\n",
    "    return"
   ]
  },
  {
   "cell_type": "code",
   "execution_count": 8,
   "metadata": {},
   "outputs": [],
   "source": [
    "def produce_samples(generated_samples):\n",
    "    produces_sample = []\n",
    "    for poem in generated_samples:\n",
    "        poem_list = []\n",
    "        for ii in poem:\n",
    "            if ii == 0:  # _PAD\n",
    "                continue\n",
    "            if ii == 2:  # _EOS\n",
    "                break\n",
    "            poem_list.append(ii)\n",
    "        produces_sample.append(poem_list)\n",
    "    return produces_sample"
   ]
  },
  {
   "cell_type": "code",
   "execution_count": 9,
   "metadata": {},
   "outputs": [],
   "source": [
    "def load_emb_data(emb_dict_file):\n",
    "    word_dict = {}\n",
    "    word_list = []\n",
    "    item = 0\n",
    "    with open(emb_dict_file, 'r') as f:\n",
    "        lines = f.readlines()\n",
    "        for line in lines:\n",
    "            word = line.strip()\n",
    "            word_dict[word] = item\n",
    "            item += 1\n",
    "            word_list.append(word)\n",
    "    length = len(word_dict)\n",
    "    print(\"Load embedding success! Num: %d\" % length)\n",
    "    return word_dict, length, word_list\n",
    "\n",
    "\n"
   ]
  },
  {
   "cell_type": "code",
   "execution_count": null,
   "metadata": {},
   "outputs": [],
   "source": [
    "def pre_train_epoch(sess, trainable_model, data_loader):\n",
    "    # Pre-train the generator using MLE for one epoch\n",
    "    supervised_g_losses = []\n",
    "    data_loader.reset_pointer()\n",
    "\n",
    "    for it in range(200):  # data_loader.num_batch):\n",
    "        batch = data_loader.next_batch()\n",
    "        _, g_loss = trainable_model.pretrain_step(sess, batch)\n",
    "        supervised_g_losses.append(g_loss)\n",
    "\n",
    "    return np.mean(supervised_g_losses)"
   ]
  }
 ],
 "metadata": {
  "kernelspec": {
   "display_name": "Python 3",
   "language": "python",
   "name": "python3"
  },
  "language_info": {
   "codemirror_mode": {
    "name": "ipython",
    "version": 3
   },
   "file_extension": ".py",
   "mimetype": "text/x-python",
   "name": "python",
   "nbconvert_exporter": "python",
   "pygments_lexer": "ipython3",
   "version": "3.7.7"
  }
 },
 "nbformat": 4,
 "nbformat_minor": 4
}
